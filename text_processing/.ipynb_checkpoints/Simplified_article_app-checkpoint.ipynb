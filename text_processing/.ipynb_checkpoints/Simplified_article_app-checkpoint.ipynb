{
 "cells": [
  {
   "cell_type": "code",
   "execution_count": 2,
   "metadata": {},
   "outputs": [],
   "source": [
    "import spacy\n",
    "nlp = spacy.load('en_core_web_sm')"
   ]
  },
  {
   "cell_type": "code",
   "execution_count": 3,
   "metadata": {},
   "outputs": [],
   "source": [
    "doc = nlp(u'Kami Rita Sherpa set a new record for climbing Mount Everest, ascending to the world\\'s highest peak for the second time in a week. Tuesday\\'s climb was also the 24th time he had scaled the summit. Now 49, the sherpa (a man from the Tibet country that helps people climb mountinas in the Himalayas) says he can keep going until he\\'s 60 years old and does not have plans to retire. \"I actually never knew that you could make a record,\" he said. \"Had I known, I would have made a lot more summits earlier.\"')"
   ]
  },
  {
   "cell_type": "code",
   "execution_count": 4,
   "metadata": {},
   "outputs": [
    {
     "name": "stdout",
     "output_type": "stream",
     "text": [
      "set\n"
     ]
    }
   ],
   "source": [
    "import json\n",
    "\n",
    "vocab = []\n",
    "tags = [\"make\", \"know\", \"can\", \"climb\", \"keep\", \"set\"]\n",
    "\n",
    "sample_token = doc[3]\n",
    "print(sample_token)\n",
    "\n",
    "for token in doc:\n",
    "    dict = {}\n",
    "    dict[\"text\"] = token.text\n",
    "    dict[\"text_with_ws\"] = token.text_with_ws\n",
    "    if token.lemma_ in tags:\n",
    "        dict[\"lemma\"] = token.lemma_\n",
    "        dict[\"pos\"] = spacy.explain(token.tag_)\n",
    "    vocab.append(dict)\n",
    "\n",
    "# print(json.dumps(vocab))"
   ]
  },
  {
   "cell_type": "code",
   "execution_count": 6,
   "metadata": {},
   "outputs": [
    {
     "ename": "TypeError",
     "evalue": "'spacy.tokens.token.Token' object is not iterable",
     "output_type": "error",
     "traceback": [
      "\u001b[0;31m---------------------------------------------------------------------------\u001b[0m",
      "\u001b[0;31mTypeError\u001b[0m                                 Traceback (most recent call last)",
      "\u001b[0;32m<ipython-input-6-e2d64b708bcf>\u001b[0m in \u001b[0;36m<module>\u001b[0;34m\u001b[0m\n\u001b[0;32m----> 1\u001b[0;31m \u001b[0;32mfor\u001b[0m \u001b[0mkey\u001b[0m \u001b[0;32min\u001b[0m \u001b[0menumerate\u001b[0m\u001b[0;34m(\u001b[0m\u001b[0msample_token\u001b[0m\u001b[0;34m)\u001b[0m\u001b[0;34m:\u001b[0m\u001b[0;34m\u001b[0m\u001b[0;34m\u001b[0m\u001b[0m\n\u001b[0m\u001b[1;32m      2\u001b[0m     \u001b[0mprint\u001b[0m\u001b[0;34m(\u001b[0m\u001b[0mkey\u001b[0m\u001b[0;34m)\u001b[0m\u001b[0;34m\u001b[0m\u001b[0;34m\u001b[0m\u001b[0m\n",
      "\u001b[0;31mTypeError\u001b[0m: 'spacy.tokens.token.Token' object is not iterable"
     ]
    }
   ],
   "source": [
    "for key in enumerate(sample_token):\n",
    "    print(key)"
   ]
  }
 ],
 "metadata": {
  "kernelspec": {
   "display_name": "Python 3",
   "language": "python",
   "name": "python3"
  },
  "language_info": {
   "codemirror_mode": {
    "name": "ipython",
    "version": 3
   },
   "file_extension": ".py",
   "mimetype": "text/x-python",
   "name": "python",
   "nbconvert_exporter": "python",
   "pygments_lexer": "ipython3",
   "version": "3.7.3"
  }
 },
 "nbformat": 4,
 "nbformat_minor": 2
}
